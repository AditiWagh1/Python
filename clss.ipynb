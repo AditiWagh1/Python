{
 "cells": [
  {
   "cell_type": "code",
   "execution_count": 3,
   "id": "fc6a00de",
   "metadata": {},
   "outputs": [],
   "source": [
    "class MyComplexNumber:\n",
    "\n",
    "    def __init__(self,real=0,imag=0): #here self is a reference    #init is used for constructor\n",
    "        print(\"MyComplexNumber constructor executing...\")\n",
    "        self.real_part=real\n",
    "        self.imag_part=imag\n",
    "\n",
    "    def displayComplex(self):\n",
    "        print(\"{0}+{1}j\".format(self.real_part,self.imag_part))"
   ]
  },
  {
   "cell_type": "code",
   "execution_count": 4,
   "id": "328cdbd0",
   "metadata": {},
   "outputs": [
    {
     "name": "stdout",
     "output_type": "stream",
     "text": [
      "MyComplexNumber constructor executing...\n",
      "40+50j\n"
     ]
    }
   ],
   "source": [
    "cmplx1=MyComplexNumber(40,50)\n",
    "cmplx1.displayComplex()"
   ]
  },
  {
   "cell_type": "code",
   "execution_count": 5,
   "id": "552662db",
   "metadata": {},
   "outputs": [
    {
     "name": "stdout",
     "output_type": "stream",
     "text": [
      "MyComplexNumber constructor executing...\n",
      "(60, 70, 80)\n"
     ]
    }
   ],
   "source": [
    "#Creating a new attribute\n",
    "cmplx2=MyComplexNumber(60,70)\n",
    "cmplx2.new_attribute=80 #this attribute is related to cmplx2 only\n",
    "print((cmplx2.real_part,cmplx2.imag_part,cmplx2.new_attribute))"
   ]
  },
  {
   "cell_type": "code",
   "execution_count": null,
   "id": "2bd3228e",
   "metadata": {},
   "outputs": [
    {
     "ename": "AttributeError",
     "evalue": "'MyComplexNumber' object has no attribute 'new_attribute'",
     "output_type": "error",
     "traceback": [
      "\u001b[1;31m---------------------------------------------------------------------------\u001b[0m",
      "\u001b[1;31mAttributeError\u001b[0m                            Traceback (most recent call last)",
      "Cell \u001b[1;32mIn[6], line 1\u001b[0m\n\u001b[1;32m----> 1\u001b[0m cmplx1\u001b[38;5;241m.\u001b[39mnew_attribute\n",
      "\u001b[1;31mAttributeError\u001b[0m: 'MyComplexNumber' object has no attribute 'new_attribute'"
     ]
    }
   ],
   "source": [
    "cmplx1.new_attribute #but cmplx1 object has no attribute so error will occur"
   ]
  },
  {
   "cell_type": "code",
   "execution_count": 7,
   "id": "e0500a2c",
   "metadata": {},
   "outputs": [
    {
     "name": "stdout",
     "output_type": "stream",
     "text": [
      "<__main__.MyComplexNumber object at 0x0000024DD55A7B90>\n"
     ]
    }
   ],
   "source": [
    "#deleting object attributes and whole object\n",
    "print(cmplx1)\n",
    "del cmplx1.real_part\n",
    "del cmplx1"
   ]
  },
  {
   "cell_type": "code",
   "execution_count": null,
   "id": "5d5f52f9",
   "metadata": {},
   "outputs": [
    {
     "ename": "NameError",
     "evalue": "name 'cmplx1' is not defined",
     "output_type": "error",
     "traceback": [
      "\u001b[1;31m---------------------------------------------------------------------------\u001b[0m",
      "\u001b[1;31mNameError\u001b[0m                                 Traceback (most recent call last)",
      "Cell \u001b[1;32mIn[8], line 1\u001b[0m\n\u001b[1;32m----> 1\u001b[0m \u001b[38;5;28mprint\u001b[39m(cmplx1)\n",
      "\u001b[1;31mNameError\u001b[0m: name 'cmplx1' is not defined"
     ]
    }
   ],
   "source": [
    "print(cmplx1) #since we deleted cmplx1 it can't be printed"
   ]
  }
 ],
 "metadata": {
  "kernelspec": {
   "display_name": "base",
   "language": "python",
   "name": "python3"
  },
  "language_info": {
   "codemirror_mode": {
    "name": "ipython",
    "version": 3
   },
   "file_extension": ".py",
   "mimetype": "text/x-python",
   "name": "python",
   "nbconvert_exporter": "python",
   "pygments_lexer": "ipython3",
   "version": "3.12.7"
  }
 },
 "nbformat": 4,
 "nbformat_minor": 5
}
