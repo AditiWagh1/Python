{
 "cells": [
  {
   "cell_type": "code",
   "execution_count": null,
   "id": "c76b2ccb",
   "metadata": {},
   "outputs": [
    {
     "name": "stdout",
     "output_type": "stream",
     "text": [
      "0\n",
      "1\n",
      "4\n",
      "9\n",
      "16\n",
      "25\n"
     ]
    }
   ],
   "source": [
    "#yield  in case of generator() there is no return statement so yield is used to return\n",
    " def generator():\n",
    "    for i in range(6):\n",
    "        yield i*i\n",
    "g=generator()\n",
    "for i in g:\n",
    "    print(i)"
   ]
  },
  {
   "cell_type": "code",
   "execution_count": null,
   "id": "cc2f1370",
   "metadata": {},
   "outputs": [],
   "source": [
    "#with\n",
    "with open('example.txt','w') as my_file: #example.txt is created and opened in write mode\n",
    "    my_file.write('Hello world!')"
   ]
  },
  {
   "cell_type": "code",
   "execution_count": 29,
   "id": "d24d9fe3",
   "metadata": {},
   "outputs": [
    {
     "name": "stdout",
     "output_type": "stream",
     "text": [
      "5\n",
      "4\n",
      "3\n",
      "2\n",
      "1\n"
     ]
    }
   ],
   "source": [
    "#while\n",
    "i=5\n",
    "while(i>0):\n",
    "    print(i)\n",
    "    i-=1"
   ]
  },
  {
   "cell_type": "code",
   "execution_count": 28,
   "id": "127f7106",
   "metadata": {},
   "outputs": [
    {
     "name": "stdout",
     "output_type": "stream",
     "text": [
      "10\n"
     ]
    }
   ],
   "source": [
    "#return\n",
    "def func_return():\n",
    "    a=10\n",
    "    return a\n",
    "print(func_return())"
   ]
  },
  {
   "cell_type": "code",
   "execution_count": 27,
   "id": "bbd75bde",
   "metadata": {},
   "outputs": [
    {
     "name": "stdout",
     "output_type": "stream",
     "text": [
      "Inner function 10\n",
      "Outer function 10\n"
     ]
    }
   ],
   "source": [
    "#nonlocal\n",
    "def outer_function():\n",
    "    a=5\n",
    "    def inner_function():\n",
    "        nonlocal a\n",
    "        a=10\n",
    "        print(\"Inner function\",a)\n",
    "    inner_function()\n",
    "    print(\"Outer function\",a)\n",
    "outer_function()\n"
   ]
  },
  {
   "cell_type": "code",
   "execution_count": 26,
   "id": "592f4525",
   "metadata": {},
   "outputs": [
    {
     "name": "stdout",
     "output_type": "stream",
     "text": [
      "2\n",
      "4\n",
      "6\n",
      "8\n",
      "10\n"
     ]
    }
   ],
   "source": [
    "#lambda to define user defined function with no name instead of def we use lambda\n",
    "a=lambda x:x*2\n",
    "for i in range(1,6):\n",
    "    print(a(i))"
   ]
  },
  {
   "cell_type": "code",
   "execution_count": 24,
   "id": "20a64cf6",
   "metadata": {},
   "outputs": [
    {
     "name": "stdout",
     "output_type": "stream",
     "text": [
      "True\n"
     ]
    }
   ],
   "source": [
    "#is\n",
    "print(True is True)"
   ]
  },
  {
   "cell_type": "code",
   "execution_count": 23,
   "id": "84d2a0ed",
   "metadata": {},
   "outputs": [
    {
     "name": "stdout",
     "output_type": "stream",
     "text": [
      "True\n",
      "False\n"
     ]
    }
   ],
   "source": [
    "#in\n",
    "a=[1,2,3,4]\n",
    "print(4 in a)\n",
    "print(44 in a)"
   ]
  },
  {
   "cell_type": "code",
   "execution_count": 21,
   "id": "28bff98e",
   "metadata": {},
   "outputs": [
    {
     "name": "stdout",
     "output_type": "stream",
     "text": [
      "10\n",
      "5\n",
      "5\n"
     ]
    }
   ],
   "source": [
    "#global\n",
    "globvar=10\n",
    "def read1():\n",
    "    print(globvar)\n",
    "def write1():\n",
    "    global globvar #this global tells me that this globvar is not a new variable\n",
    "    globvar=5\n",
    "def write2():\n",
    "    globvar=15 #we haven't used keyword global here so this will treated as local and won't be printed as at last we are calling read1\n",
    "read1()\n",
    "write1()\n",
    "read1()\n",
    "write2()\n",
    "read1()"
   ]
  },
  {
   "cell_type": "code",
   "execution_count": 17,
   "id": "9b158764",
   "metadata": {},
   "outputs": [
    {
     "name": "stdout",
     "output_type": "stream",
     "text": [
      "-0.8390715290764524\n"
     ]
    }
   ],
   "source": [
    "#from..import\n",
    "import math\n",
    "from math import cos\n",
    "print(cos(10))"
   ]
  },
  {
   "cell_type": "code",
   "execution_count": null,
   "id": "d60a0da7",
   "metadata": {},
   "outputs": [
    {
     "name": "stdout",
     "output_type": "stream",
     "text": [
      "1\n",
      "2\n",
      "3\n",
      "4\n"
     ]
    }
   ],
   "source": [
    "#for\n",
    "for i in range(1,5,1): #end value is exclusive \n",
    "    print(i) #thrid 1 is increment wali sankhya"
   ]
  },
  {
   "cell_type": "code",
   "execution_count": 13,
   "id": "1942dd0e",
   "metadata": {},
   "outputs": [
    {
     "name": "stdout",
     "output_type": "stream",
     "text": [
      "Division cannot be performed\n",
      "Execution Successful\n"
     ]
    }
   ],
   "source": [
    "#try..raise..catch..finally\n",
    "try:\n",
    "    x=9\n",
    "    raise ZeroDivisionError\n",
    "except ZeroDivisionError:\n",
    "    print(\"Division cannot be performed\") #error ali tar he print kara\n",
    "finally:\n",
    "    print(\"Execution Successful\") #eroor ali kiva nahi ali tari he print kara"
   ]
  },
  {
   "cell_type": "code",
   "execution_count": 12,
   "id": "752cef77",
   "metadata": {},
   "outputs": [
    {
     "name": "stdout",
     "output_type": "stream",
     "text": [
      "Two\n"
     ]
    }
   ],
   "source": [
    "#if..elif..else\n",
    "num=2\n",
    "if num==1:\n",
    "    print('One')\n",
    "elif num==2:\n",
    "    print('Two')\n",
    "else:\n",
    "    print('Something else')"
   ]
  },
  {
   "cell_type": "code",
   "execution_count": null,
   "id": "68554514",
   "metadata": {},
   "outputs": [
    {
     "name": "stdout",
     "output_type": "stream",
     "text": [
      "10\n"
     ]
    },
    {
     "ename": "NameError",
     "evalue": "name 'a' is not defined",
     "output_type": "error",
     "traceback": [
      "\u001b[1;31m---------------------------------------------------------------------------\u001b[0m",
      "\u001b[1;31mNameError\u001b[0m                                 Traceback (most recent call last)",
      "Cell \u001b[1;32mIn[11], line 5\u001b[0m\n\u001b[0;32m      3\u001b[0m \u001b[38;5;28mprint\u001b[39m(a)\n\u001b[0;32m      4\u001b[0m \u001b[38;5;28;01mdel\u001b[39;00m a\n\u001b[1;32m----> 5\u001b[0m \u001b[38;5;28mprint\u001b[39m(a)\n",
      "\u001b[1;31mNameError\u001b[0m: name 'a' is not defined"
     ]
    }
   ],
   "source": [
    "#del used to delete\n",
    "a=10\n",
    "print(a)\n",
    "del a\n",
    "print(a)"
   ]
  },
  {
   "cell_type": "code",
   "execution_count": null,
   "id": "4b255474",
   "metadata": {},
   "outputs": [],
   "source": [
    "#def to define userdefined function\n",
    "def function_name(parameters):\n",
    "    pass #pass is used to add more functionality to application.no output in this eg\n",
    "function_name(10)"
   ]
  },
  {
   "cell_type": "code",
   "execution_count": 9,
   "id": "8cfcc5df",
   "metadata": {},
   "outputs": [
    {
     "name": "stdout",
     "output_type": "stream",
     "text": [
      "function1() executing...\n",
      "function2() executing...\n"
     ]
    }
   ],
   "source": [
    "class ExampleClass:\n",
    "    def function1(parameters):\n",
    "        print(\"function1() executing...\")\n",
    "    def function2(parameters):\n",
    "        print(\"function2() executing...\")\n",
    "ob1=ExampleClass()\n",
    "ob1.function1()\n",
    "ob1.function2()"
   ]
  },
  {
   "cell_type": "code",
   "execution_count": 8,
   "id": "99ee4ff2",
   "metadata": {},
   "outputs": [
    {
     "name": "stdout",
     "output_type": "stream",
     "text": [
      "1\n",
      "2\n",
      "3\n",
      "4\n",
      "6\n",
      "7\n"
     ]
    }
   ],
   "source": [
    "#continue\n",
    "for i in range(1,8):\n",
    "    if i==5:\n",
    "        continue #next part remains unreachable and i will be incremented\n",
    "    print(i)"
   ]
  },
  {
   "cell_type": "code",
   "execution_count": 7,
   "id": "5e6a0447",
   "metadata": {},
   "outputs": [
    {
     "name": "stdout",
     "output_type": "stream",
     "text": [
      "1\n",
      "2\n",
      "3\n",
      "4\n"
     ]
    }
   ],
   "source": [
    "#break\n",
    "for i in range(1,11):\n",
    "    if i==5:\n",
    "        break #when i becomes 5 break\n",
    "    print(i)"
   ]
  },
  {
   "cell_type": "code",
   "execution_count": 6,
   "id": "5b58df75",
   "metadata": {},
   "outputs": [],
   "source": [
    "#assert(returns some boolean expression .Here boyhconditions are true so nothing is returned)\n",
    "assert 5>4\n",
    "assert 5==5"
   ]
  },
  {
   "cell_type": "code",
   "execution_count": 5,
   "id": "7692de14",
   "metadata": {},
   "outputs": [
    {
     "name": "stdout",
     "output_type": "stream",
     "text": [
      "-1.0\n"
     ]
    }
   ],
   "source": [
    "#as (rename operator)\n",
    "import math as myMath\n",
    "print(myMath.cos(myMath.pi))"
   ]
  },
  {
   "cell_type": "code",
   "execution_count": 1,
   "id": "e433410f",
   "metadata": {},
   "outputs": [
    {
     "name": "stdout",
     "output_type": "stream",
     "text": [
      "True\n",
      "False\n"
     ]
    }
   ],
   "source": [
    "#True and False (follow the case sensetivity)\n",
    "print(5==5)\n",
    "print(5>5)"
   ]
  },
  {
   "cell_type": "code",
   "execution_count": 2,
   "id": "99b42817",
   "metadata": {},
   "outputs": [
    {
     "name": "stdout",
     "output_type": "stream",
     "text": [
      "False\n",
      "False\n",
      "False\n",
      "True\n"
     ]
    }
   ],
   "source": [
    "#None\n",
    "print(None==0)\n",
    "print(None==False)\n",
    "print(None==[])\n",
    "print(None==None)"
   ]
  },
  {
   "cell_type": "code",
   "execution_count": 3,
   "id": "a9e6777e",
   "metadata": {},
   "outputs": [
    {
     "name": "stdout",
     "output_type": "stream",
     "text": [
      "None\n"
     ]
    }
   ],
   "source": [
    "def a_void_function():\n",
    "    a=1\n",
    "    b=2\n",
    "    c=a+b\n",
    "    #return c (write this line to get output)\n",
    "x=a_void_function() #we can't asssign a int to a void function hence output will be None\n",
    "print(x)"
   ]
  },
  {
   "cell_type": "code",
   "execution_count": 4,
   "id": "865ed004",
   "metadata": {},
   "outputs": [
    {
     "name": "stdout",
     "output_type": "stream",
     "text": [
      "False\n",
      "True\n",
      "True\n"
     ]
    }
   ],
   "source": [
    "#and,or,not\n",
    "print(True and False)\n",
    "print(True or False)\n",
    "print(not False)"
   ]
  }
 ],
 "metadata": {
  "kernelspec": {
   "display_name": "base",
   "language": "python",
   "name": "python3"
  },
  "language_info": {
   "codemirror_mode": {
    "name": "ipython",
    "version": 3
   },
   "file_extension": ".py",
   "mimetype": "text/x-python",
   "name": "python",
   "nbconvert_exporter": "python",
   "pygments_lexer": "ipython3",
   "version": "3.12.7"
  }
 },
 "nbformat": 4,
 "nbformat_minor": 5
}
