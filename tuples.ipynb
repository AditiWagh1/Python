{
 "cells": [
  {
   "cell_type": "code",
   "execution_count": 12,
   "id": "78e0b26e",
   "metadata": {},
   "outputs": [
    {
     "name": "stdout",
     "output_type": "stream",
     "text": [
      "(22, 33, 55, 44, 77, 66, 11)\n",
      "77\n",
      "11\n",
      "[11, 22, 33, 44, 55, 66, 77]\n",
      "7\n"
     ]
    }
   ],
   "source": [
    "#built-in functions with tuple\n",
    "tuple7=(22,33,55,44,77,66,11)\n",
    "print(tuple7)\n",
    "print(max(tuple7))\n",
    "print(min(tuple7))\n",
    "print(sorted(tuple7))\n",
    "print(len(tuple7))"
   ]
  },
  {
   "cell_type": "code",
   "execution_count": 11,
   "id": "ba027e1b",
   "metadata": {},
   "outputs": [
    {
     "name": "stdout",
     "output_type": "stream",
     "text": [
      "letter is-> w\n",
      "letter is-> e\n",
      "letter is-> l\n",
      "letter is-> c\n",
      "letter is-> o\n",
      "letter is-> m\n",
      "letter is-> e\n"
     ]
    }
   ],
   "source": [
    "#iteration through tuple elements\n",
    "tuple6=('w','e','l','c','o','m','e')\n",
    "for letters in tuple6:\n",
    "    print(\"letter is->\",letters)"
   ]
  },
  {
   "cell_type": "code",
   "execution_count": 8,
   "id": "cfb752f3",
   "metadata": {},
   "outputs": [
    {
     "name": "stdout",
     "output_type": "stream",
     "text": [
      "True\n",
      "False\n",
      "False\n",
      "True\n"
     ]
    }
   ],
   "source": [
    "#tuple operations\n",
    "tuple6=('w','e','l','c','o','m','e')\n",
    "print('c' in tuple6)\n",
    "print('c' not in tuple6)\n",
    "print('a' in tuple6)\n",
    "print('a' not in tuple6)"
   ]
  },
  {
   "cell_type": "code",
   "execution_count": null,
   "id": "1c759866",
   "metadata": {},
   "outputs": [
    {
     "name": "stdout",
     "output_type": "stream",
     "text": [
      "2\n",
      "1\n"
     ]
    }
   ],
   "source": [
    "#tuple methods\n",
    "tuple5=('w','e','l','c','o','m','e')\n",
    "print(tuple5.count('e'))\n",
    "print(tuple5.index('e')) #tells first index"
   ]
  },
  {
   "cell_type": "code",
   "execution_count": null,
   "id": "7203b451",
   "metadata": {},
   "outputs": [
    {
     "ename": "TypeError",
     "evalue": "'tuple' object doesn't support item deletion",
     "output_type": "error",
     "traceback": [
      "\u001b[1;31m---------------------------------------------------------------------------\u001b[0m",
      "\u001b[1;31mTypeError\u001b[0m                                 Traceback (most recent call last)",
      "Cell \u001b[1;32mIn[6], line 4\u001b[0m\n\u001b[0;32m      2\u001b[0m tuple4\u001b[38;5;241m=\u001b[39m(\u001b[38;5;124m'\u001b[39m\u001b[38;5;124mw\u001b[39m\u001b[38;5;124m'\u001b[39m,\u001b[38;5;124m'\u001b[39m\u001b[38;5;124me\u001b[39m\u001b[38;5;124m'\u001b[39m,\u001b[38;5;124m'\u001b[39m\u001b[38;5;124ml\u001b[39m\u001b[38;5;124m'\u001b[39m,\u001b[38;5;124m'\u001b[39m\u001b[38;5;124mc\u001b[39m\u001b[38;5;124m'\u001b[39m,\u001b[38;5;124m'\u001b[39m\u001b[38;5;124mo\u001b[39m\u001b[38;5;124m'\u001b[39m,\u001b[38;5;124m'\u001b[39m\u001b[38;5;124mm\u001b[39m\u001b[38;5;124m'\u001b[39m,\u001b[38;5;124m'\u001b[39m\u001b[38;5;124me\u001b[39m\u001b[38;5;124m'\u001b[39m)\n\u001b[0;32m      3\u001b[0m \u001b[38;5;66;03m#as immutable so element can not be deleted hence it will give error\u001b[39;00m\n\u001b[1;32m----> 4\u001b[0m \u001b[38;5;28;01mdel\u001b[39;00m tuple4[\u001b[38;5;241m2\u001b[39m]\n\u001b[0;32m      5\u001b[0m \u001b[38;5;28;01mdel\u001b[39;00m tuple4\n\u001b[0;32m      6\u001b[0m \u001b[38;5;28mprint\u001b[39m(tuple4)\n",
      "\u001b[1;31mTypeError\u001b[0m: 'tuple' object doesn't support item deletion"
     ]
    }
   ],
   "source": [
    "#deletion operation on a tuple\n",
    "tuple4=('w','e','l','c','o','m','e')\n",
    "#as immutable so element can not be deleted hence it will give error\n",
    "#del tuple4[2]\n",
    "del tuple4\n",
    "print(tuple4)"
   ]
  },
  {
   "cell_type": "code",
   "execution_count": 3,
   "id": "4e3c40cb",
   "metadata": {},
   "outputs": [
    {
     "name": "stdout",
     "output_type": "stream",
     "text": [
      "('w', 'e', 'l')\n",
      "('c', 'o', 'm', 'e')\n",
      "('w', 'e', 'l', 'c', 'o', 'm', 'e')\n",
      "('again', 'again', 'again', 'again')\n"
     ]
    }
   ],
   "source": [
    "#concatenation of tuples\n",
    "tuple2=('w','e','l')\n",
    "tuple3=('c','o','m','e')\n",
    "print(tuple2)\n",
    "print(tuple3)\n",
    "print(tuple2+tuple3)\n",
    "print((\"again\",)*4)"
   ]
  },
  {
   "cell_type": "code",
   "execution_count": null,
   "id": "8ba9d482",
   "metadata": {},
   "outputs": [
    {
     "name": "stdout",
     "output_type": "stream",
     "text": [
      "('w', 'e', 'l', 'c', 'o', 'm', 'e')\n",
      "('g', 'o', 'o', 'd', 'b', 'y', 'e')\n"
     ]
    }
   ],
   "source": [
    "#tuple elements are immutable\n",
    "tuple1=('w','e','l','c','o','m','e')\n",
    "print(tuple1)\n",
    "#tuple1[2]='x' #error you can't assign like that\n",
    "#tuples can be reassigned\n",
    "tuple1=('g','o','o','d','b','y','e')\n",
    "print(tuple1)"
   ]
  },
  {
   "cell_type": "code",
   "execution_count": 8,
   "id": "d728272f",
   "metadata": {},
   "outputs": [
    {
     "name": "stdout",
     "output_type": "stream",
     "text": [
      "('e', 'l')\n",
      "('w', 'e', 'l', 'c')\n",
      "('c', 'o', 'm', 'e')\n",
      "('w', 'e', 'l', 'c', 'o', 'm', 'e')\n"
     ]
    }
   ],
   "source": [
    "#index slicing\n",
    "tuple1=('w','e','l','c','o','m','e')\n",
    "\n",
    "print(tuple1[1:3])\n",
    "print(tuple1[:-3])\n",
    "print(tuple1[3:])\n",
    "print(tuple1[:])"
   ]
  },
  {
   "cell_type": "code",
   "execution_count": 3,
   "id": "4566075f",
   "metadata": {},
   "outputs": [
    {
     "name": "stdout",
     "output_type": "stream",
     "text": [
      "('w', 'e', 'l', 'c', 'o', 'm', 'e')\n",
      "e\n",
      "c\n",
      "m\n",
      "('point', [1, 3, 4], (8, 7, 9))\n",
      "n\n",
      "4\n",
      "9\n"
     ]
    }
   ],
   "source": [
    "#accessing elements in a tuple\n",
    "tuple1=('w','e','l','c','o','m','e')\n",
    "print(tuple1)\n",
    "print(tuple1[1])\n",
    "print(tuple1[3])\n",
    "print(tuple1[5])\n",
    "#nested tuple\n",
    "nest_tuple2=(\"point\",[1,3,4],(8,7,9))\n",
    "print(nest_tuple2)\n",
    "print(nest_tuple2[0][3])\n",
    "print(nest_tuple2[1][2])\n",
    "print(nest_tuple2[2][2])"
   ]
  },
  {
   "cell_type": "code",
   "execution_count": 2,
   "id": "ce35f7c1",
   "metadata": {},
   "outputs": [
    {
     "name": "stdout",
     "output_type": "stream",
     "text": [
      "('points', [1, 4, 3], (7, 8, 6))\n",
      "(101, 'anirban', 20000.0, 'HE Dept')\n",
      "101\n",
      "anirban\n",
      "20000.0\n",
      "HE Dept\n",
      "<class 'tuple'>\n"
     ]
    }
   ],
   "source": [
    "#creation of nested tuple\n",
    "tuple4=(\"points\",[1,4,3],(7,8,6))\n",
    "print(tuple4)\n",
    "#tuple can be created without using parantheses.Also called tuple Packing\n",
    "tuple5=101,\"anirban\",20000.00,\"HE Dept\"\n",
    "print(tuple5)\n",
    "\n",
    "#tuple unpacking is also possible\n",
    "empid,empname,empsal,empdept=tuple5\n",
    "print(empid)\n",
    "print(empname)\n",
    "print(empsal)\n",
    "print(empdept)\n",
    "print(type(tuple5))"
   ]
  },
  {
   "cell_type": "code",
   "execution_count": null,
   "id": "5c3b089d",
   "metadata": {},
   "outputs": [
    {
     "name": "stdout",
     "output_type": "stream",
     "text": [
      "()\n",
      "(1, 2, 3)\n",
      "(101, 'Google', 2, 'HR Dept')\n"
     ]
    }
   ],
   "source": [
    "#tuple is similar to list but it is used to store heterogrnous elements whereas list is used to store homogenous elements.However a list can store heterogenous elemnt.In tuple we use curved brackets to include last digits in list last digit is exclusive.Tuples are immutable(i.e cannoot change elements once it is assigned) and list is mutable\n",
    "#creating an empty tuple\n",
    "tuple1=()\n",
    "print(tuple1)\n",
    "\n",
    "#creating an tuple with integer elements\n",
    "tuple2=(1,2,3)\n",
    "print(tuple2)\n",
    "\n",
    "#tuple with mixed datatypes\n",
    "tuple3=(101,\"Google\",2,\"HR Dept\")\n",
    "print(tuple3)"
   ]
  }
 ],
 "metadata": {
  "kernelspec": {
   "display_name": "base",
   "language": "python",
   "name": "python3"
  },
  "language_info": {
   "codemirror_mode": {
    "name": "ipython",
    "version": 3
   },
   "file_extension": ".py",
   "mimetype": "text/x-python",
   "name": "python",
   "nbconvert_exporter": "python",
   "pygments_lexer": "ipython3",
   "version": "3.12.7"
  }
 },
 "nbformat": 4,
 "nbformat_minor": 5
}
