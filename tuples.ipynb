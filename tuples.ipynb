{
 "cells": [
  {
   "cell_type": "code",
   "execution_count": 8,
   "id": "d728272f",
   "metadata": {},
   "outputs": [
    {
     "name": "stdout",
     "output_type": "stream",
     "text": [
      "('e', 'l')\n",
      "('w', 'e', 'l', 'c')\n",
      "('c', 'o', 'm', 'e')\n",
      "('w', 'e', 'l', 'c', 'o', 'm', 'e')\n"
     ]
    }
   ],
   "source": [
    "#index slicing\n",
    "tuple1=('w','e','l','c','o','m','e')\n",
    "\n",
    "print(tuple1[1:3])\n",
    "print(tuple1[:-3])\n",
    "print(tuple1[3:])\n",
    "print(tuple1[:])"
   ]
  },
  {
   "cell_type": "code",
   "execution_count": 3,
   "id": "4566075f",
   "metadata": {},
   "outputs": [
    {
     "name": "stdout",
     "output_type": "stream",
     "text": [
      "('w', 'e', 'l', 'c', 'o', 'm', 'e')\n",
      "e\n",
      "c\n",
      "m\n",
      "('point', [1, 3, 4], (8, 7, 9))\n",
      "n\n",
      "4\n",
      "9\n"
     ]
    }
   ],
   "source": [
    "#accessing elements in a tuple\n",
    "tuple1=('w','e','l','c','o','m','e')\n",
    "print(tuple1)\n",
    "print(tuple1[1])\n",
    "print(tuple1[3])\n",
    "print(tuple1[5])\n",
    "#nested tuple\n",
    "nest_tuple2=(\"point\",[1,3,4],(8,7,9))\n",
    "print(nest_tuple2)\n",
    "print(nest_tuple2[0][3])\n",
    "print(nest_tuple2[1][2])\n",
    "print(nest_tuple2[2][2])"
   ]
  },
  {
   "cell_type": "code",
   "execution_count": 2,
   "id": "ce35f7c1",
   "metadata": {},
   "outputs": [
    {
     "name": "stdout",
     "output_type": "stream",
     "text": [
      "('points', [1, 4, 3], (7, 8, 6))\n",
      "(101, 'anirban', 20000.0, 'HE Dept')\n",
      "101\n",
      "anirban\n",
      "20000.0\n",
      "HE Dept\n",
      "<class 'tuple'>\n"
     ]
    }
   ],
   "source": [
    "#creation of nested tuple\n",
    "tuple4=(\"points\",[1,4,3],(7,8,6))\n",
    "print(tuple4)\n",
    "#tuple can be created without using parantheses.Also called tuple Packing\n",
    "tuple5=101,\"anirban\",20000.00,\"HE Dept\"\n",
    "print(tuple5)\n",
    "\n",
    "#tuple unpacking is also possible\n",
    "empid,empname,empsal,empdept=tuple5\n",
    "print(empid)\n",
    "print(empname)\n",
    "print(empsal)\n",
    "print(empdept)\n",
    "print(type(tuple5))"
   ]
  },
  {
   "cell_type": "code",
   "execution_count": null,
   "id": "5c3b089d",
   "metadata": {},
   "outputs": [
    {
     "name": "stdout",
     "output_type": "stream",
     "text": [
      "()\n",
      "(1, 2, 3)\n",
      "(101, 'Google', 2, 'HR Dept')\n"
     ]
    }
   ],
   "source": [
    "#tuple is similar to list but it is used to store heterogrnous elements whereas list is used to store homogenous elements.However a list can store heterogenous elemnt.In tuple we use curved brackets to include last digits in list last digit is exclusive.Tuples are immutable(i.e cannoot change elements once it is assigned) and list is mutable\n",
    "#creating an empty tuple\n",
    "tuple1=()\n",
    "print(tuple1)\n",
    "\n",
    "#creating an tuple with integer elements\n",
    "tuple2=(1,2,3)\n",
    "print(tuple2)\n",
    "\n",
    "#tuple with mixed datatypes\n",
    "tuple3=(101,\"Google\",2,\"HR Dept\")\n",
    "print(tuple3)"
   ]
  }
 ],
 "metadata": {
  "kernelspec": {
   "display_name": "base",
   "language": "python",
   "name": "python3"
  },
  "language_info": {
   "codemirror_mode": {
    "name": "ipython",
    "version": 3
   },
   "file_extension": ".py",
   "mimetype": "text/x-python",
   "name": "python",
   "nbconvert_exporter": "python",
   "pygments_lexer": "ipython3",
   "version": "3.12.7"
  }
 },
 "nbformat": 4,
 "nbformat_minor": 5
}
